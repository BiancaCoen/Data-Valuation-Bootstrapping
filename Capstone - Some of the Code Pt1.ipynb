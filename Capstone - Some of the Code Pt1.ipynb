{
 "cells": [
  {
   "cell_type": "markdown",
   "id": "eba4a389",
   "metadata": {},
   "source": [
    "# Imports"
   ]
  },
  {
   "cell_type": "code",
   "execution_count": 5,
   "id": "65e79d08",
   "metadata": {
    "ExecuteTime": {
     "end_time": "2022-06-14T06:38:27.153253Z",
     "start_time": "2022-06-14T06:38:26.238396Z"
    }
   },
   "outputs": [],
   "source": [
    "import matplotlib.pyplot as plt\n",
    "import seaborn as sns\n",
    "\n",
    "import pandas as pd\n",
    "import numpy as np\n",
    "from sklearn import datasets\n",
    "\n",
    "from sklearn.datasets import make_blobs\n",
    "from sklearn.tree import DecisionTreeClassifier\n",
    "\n",
    "# Default plot configurations\n",
    "%matplotlib inline\n",
    "plt.rcParams['figure.figsize'] = (14,8)\n",
    "plt.rcParams['figure.dpi'] = 150\n",
    "sns.set()"
   ]
  },
  {
   "cell_type": "markdown",
   "id": "d57d7001",
   "metadata": {},
   "source": [
    "# Some Visualizations"
   ]
  },
  {
   "cell_type": "code",
   "execution_count": 1,
   "id": "0c4d7e08",
   "metadata": {
    "ExecuteTime": {
     "end_time": "2022-06-14T06:35:22.177535Z",
     "start_time": "2022-06-14T06:35:22.155263Z"
    }
   },
   "outputs": [],
   "source": [
    "def scatters_acc_color(data, \n",
    "                      x, \n",
    "                      y, \n",
    "                      remove_list,  \n",
    "                      all_removed_indexes, \n",
    "                      title,\n",
    "                      palette,\n",
    "                      dot_size=10):\n",
    "    '''\n",
    "    A series of scatterplot which mark removed data.\n",
    "    \n",
    "    '''\n",
    "            \n",
    "    fig = plt.figure(1, figsize=(15,20))\n",
    "    fig.suptitle(title, fontsize = 18)\n",
    "   \n",
    "    for n in range(len(remove_list)):\n",
    "        # nrows, ncols, plot_number\n",
    "        plt.subplot(4, 2, n+1)\n",
    "        \n",
    "        data['removed'] = 0\n",
    "        mask = data['removed'].index.isin(all_removed_indexes[n])\n",
    "        data.loc[mask, 'removed'] = 1\n",
    "          \n",
    "        #style=data['target']\n",
    "        sns.scatterplot(x = data[x],y = data[y], hue = data['target'], \n",
    "                        size = data['removed'], style=data['removed'],  edgecolor=\"k\", \n",
    "                        linewidth=1, s= dot_size, palette=palette,\n",
    "                       legend = False) \n",
    "        \n",
    "        plt.xlabel(x, fontsize=12)\n",
    "        plt.xticks(fontsize = 10, fontweight = 'bold')\n",
    "        plt.ylabel(y, fontsize=12)\n",
    "        plt.yticks(fontsize = 10, fontweight = 'bold')\n",
    "        plt.title('-' + str(remove_list[n]*100) + '% of Data',  #str(round(val_scores[n],4)) + \" Accuracy |\n",
    "                 fontsize=12, fontweight = 'bold')\n",
    "        \n",
    "        if n+1 not in [7,8]:\n",
    "            plt.subplot(4, 2,n+1).xaxis.set_ticklabels([])\n",
    "            plt.xlabel('')\n",
    "        if n+1 not in [1,3,5,7]:\n",
    "            plt.subplot(4,2,n+1).yaxis.set_ticklabels([])\n",
    "            plt.ylabel('')\n",
    "            \n",
    "    plt.subplots_adjust(bottom=0.1, right=0.83, top=0.93, wspace=0.05, hspace=0.1)\n",
    "        \n",
    "    plt.show()"
   ]
  },
  {
   "cell_type": "code",
   "execution_count": 3,
   "id": "1be48c0b",
   "metadata": {
    "ExecuteTime": {
     "end_time": "2022-06-14T06:37:34.218184Z",
     "start_time": "2022-06-14T06:37:34.195280Z"
    }
   },
   "outputs": [],
   "source": [
    "def save_heat_scatter(data, x, y, dot_size, cmap, palette, bar_label, title, png_name):\n",
    "    '''\n",
    "    Input: df with column of bootstrap data values\n",
    "    '''\n",
    "    \n",
    "    fig = plt.figure(1, figsize=(30,12))\n",
    "    fig.suptitle(title, fontsize = 20, fontweight = 'bold')\n",
    "    \n",
    "    plt.subplot(121).set_facecolor('white')\n",
    "    ax0 = plt.subplot(121)\n",
    "    ax0.spines['bottom'].set_color('black')\n",
    "    ax0.spines['top'].set_color('black')\n",
    "    ax0.spines['left'].set_color('black')\n",
    "    ax0.spines['right'].set_color('black')\n",
    "    sns.scatterplot(data=data, x = x, y=y, hue='target', s = dot_size, palette = palette , linewidth=0, legend = False)\n",
    "    plt.xlabel('')\n",
    "    plt.ylabel('')\n",
    "    plt.xticks(fontsize = 20)\n",
    "    plt.yticks(fontsize = 20)\n",
    "    \n",
    "    plt.subplot(122).set_facecolor('white')\n",
    "    ax1 = plt.subplot(122)\n",
    "    ax1.spines['bottom'].set_color('black')\n",
    "    ax1.spines['top'].set_color('black')\n",
    "    ax1.spines['left'].set_color('black')\n",
    "    ax1.spines['right'].set_color('black')\n",
    "    \n",
    "    # nrows, ncols, plot_number\n",
    "    colors = data['BDV']\n",
    "    plt.scatter(x = data[x],y = data[y], s = dot_size,c = colors, cmap = cmap)\n",
    "    plt.xticks(fontsize = 20)\n",
    "    plt.yticks(fontsize = 20)\n",
    "    \n",
    "    \n",
    "    plt.subplots_adjust(wspace = 0.1)\n",
    "    \n",
    "    cax = plt.axes([0.92, 0.125, 0.015, 0.75])\n",
    "    cbar = plt.colorbar(cax=cax)\n",
    "    cbar.set_label(label = bar_label, fontsize = 20, labelpad=15)\n",
    "    cbar.outline.set_color('black')\n",
    "    cbar.outline.set_linewidth(1.5)\n",
    "    cbar.ax.tick_params(labelsize=20)\n",
    "    \n",
    "    fig.savefig(png_name)\n",
    "    \n",
    "    plt.show()"
   ]
  },
  {
   "cell_type": "code",
   "execution_count": 4,
   "id": "1488ee3f",
   "metadata": {
    "ExecuteTime": {
     "end_time": "2022-06-14T06:37:54.797055Z",
     "start_time": "2022-06-14T06:37:54.775018Z"
    }
   },
   "outputs": [],
   "source": [
    "def save_separate_heat_scatter(class_1, class_2, x, y, dot_size, cmap, cbar_label, title, png_name):\n",
    "    '''\n",
    "    Input: df with column of bootstrap data values\n",
    "    '''\n",
    "    fig = plt.figure(1, figsize=(30,12))\n",
    "    fig.suptitle(title, fontsize = 20, fontweight = 'bold')\n",
    "    \n",
    "    # nrows, ncols, plot_number\n",
    "    plt.subplot(121).set_facecolor('white')\n",
    "    ax0 = plt.subplot(121)\n",
    "    ax0.spines['bottom'].set_color('black')\n",
    "    ax0.spines['top'].set_color('black')\n",
    "    ax0.spines['left'].set_color('black')\n",
    "    ax0.spines['right'].set_color('black')\n",
    "    \n",
    "    colors = class_1['BDV']\n",
    "    plt.scatter(x = class_1[x],y = class_1[y], s = dot_size, c = colors, cmap = cmap) #cmap = 'jet'\n",
    "    \n",
    "    \n",
    "    plt.xticks(fontsize = 20)\n",
    "    plt.yticks(fontsize = 20)\n",
    "    \n",
    "    plt.subplot(122).set_facecolor('white')\n",
    "    ax1 = plt.subplot(122)\n",
    "    ax1.spines['bottom'].set_color('black')\n",
    "    ax1.spines['top'].set_color('black')\n",
    "    ax1.spines['left'].set_color('black')\n",
    "    ax1.spines['right'].set_color('black')\n",
    "    \n",
    "    colors = class_2['BDV']\n",
    "    plt.scatter(x = class_2[x],y = class_2[y], s = dot_size, c = colors, cmap = cmap)\n",
    "    \n",
    "    plt.xticks(fontsize = 20)\n",
    "    plt.yticks(fontsize = 20)\n",
    "\n",
    "\n",
    "    #plt.subplots_adjust(bottom=0.1, right=0.8, top=0.9, wspace = 0.2)\n",
    "    plt.subplots_adjust(wspace = 0.1)\n",
    "    \n",
    "    cax = plt.axes([0.93, 0.125, 0.015, 0.75])\n",
    "    cbar = plt.colorbar(cax=cax)\n",
    "    cbar.set_label(label = cbar_label, fontsize = 20,labelpad=15 )\n",
    "    cbar.outline.set_color('black')\n",
    "    cbar.outline.set_linewidth(1.5)\n",
    "    cbar.ax.tick_params(labelsize=20)\n",
    "    \n",
    "    fig.savefig(png_name)\n",
    "    \n",
    "    plt.show()"
   ]
  },
  {
   "cell_type": "code",
   "execution_count": 2,
   "id": "f868de3e",
   "metadata": {
    "ExecuteTime": {
     "end_time": "2022-06-14T06:37:13.493930Z",
     "start_time": "2022-06-14T06:37:13.477812Z"
    }
   },
   "outputs": [],
   "source": [
    "def all_synthetic_datasets(dataset_list, x, y, dot_size, cmap, palette, bar_label, title):\n",
    "    \n",
    "    fig = plt.figure(1, figsize=(30,12))\n",
    "    fig.suptitle(title, fontsize = 20, fontweight = 'bold')\n",
    "    \n",
    "    for i in range(len(dataset_list)):\n",
    "        plt.subplot(1,4,i+1).set_facecolor('white')\n",
    "        ax = plt.subplot(1,4,i+1)\n",
    "        ax.spines['bottom'].set_color('black')\n",
    "        ax.spines['top'].set_color('black')\n",
    "        ax.spines['left'].set_color('black')\n",
    "        ax.spines['right'].set_color('black')\n",
    "        sns.scatterplot(data=dataset_list[i], x = x, y=y, hue='target', s = dot_size, palette = palette , linewidth=0, legend = False)\n",
    "        plt.xlabel('')\n",
    "        plt.ylabel('')\n",
    "        plt.xticks(fontsize = 20)\n",
    "        plt.yticks(fontsize = 20)\n",
    "    \n",
    "    \n",
    "    plt.subplots_adjust(wspace = 0.1)\n",
    "    \n",
    "    cax = plt.axes([0.92, 0.125, 0.015, 0.75])\n",
    "    cbar = plt.colorbar(cax=cax)\n",
    "    cbar.set_label(label = bar_label, fontsize = 20, labelpad=15)\n",
    "    cbar.outline.set_color('black')\n",
    "    cbar.outline.set_linewidth(1.5)\n",
    "    cbar.ax.tick_params(labelsize=20)\n",
    "    \n",
    "    plt.show()"
   ]
  },
  {
   "cell_type": "code",
   "execution_count": 12,
   "id": "2a10d3b2",
   "metadata": {
    "ExecuteTime": {
     "end_time": "2022-06-14T06:44:47.506819Z",
     "start_time": "2022-06-14T06:44:47.495929Z"
    }
   },
   "outputs": [],
   "source": [
    "def all_synthetic_datasets_cube(dataset_list, dataset_names, x, y, dot_size, palette, title, png_name):\n",
    "                        \n",
    "    fig = plt.figure(1, figsize=(12,12)) # figsize=(width, height)\n",
    "    fig.suptitle(title, fontsize = 20, fontweight = 'bold')\n",
    "    \n",
    "    for i in range(len(dataset_list)):\n",
    "        plt.subplot(2,2,i+1).set_facecolor('white')\n",
    "        ax = plt.subplot(2,2,i+1)\n",
    "        ax.spines['bottom'].set_color('black')\n",
    "        ax.spines['top'].set_color('black')\n",
    "        ax.spines['left'].set_color('black')\n",
    "        ax.spines['right'].set_color('black')\n",
    "        sns.scatterplot(data=dataset_list[i], x = x, y=y, hue='target', s = dot_size, palette = palette , linewidth=0, legend = False)\n",
    "        plt.xlabel(dataset_names[i], fontsize = 20)\n",
    "        plt.ylabel('')\n",
    "        plt.xticks(fontsize = 18)\n",
    "        plt.yticks(fontsize = 18)\n",
    "    \n",
    "    plt.subplots_adjust(wspace = 0.1)\n",
    "    \n",
    "    fig.savefig(png_name)\n",
    "    \n",
    "    plt.show()"
   ]
  },
  {
   "cell_type": "markdown",
   "id": "f1ceb9a7",
   "metadata": {},
   "source": [
    "# Functions"
   ]
  },
  {
   "cell_type": "code",
   "execution_count": 7,
   "id": "8ae62116",
   "metadata": {
    "ExecuteTime": {
     "end_time": "2022-06-14T06:39:22.106450Z",
     "start_time": "2022-06-14T06:39:22.097456Z"
    }
   },
   "outputs": [],
   "source": [
    "def standardize_columns(data):\n",
    "    '''\n",
    "    Input:\n",
    "      data (data frame): contains only numeric columns\n",
    "    Output:\n",
    "      data frame, the same data, except each column is standardized \n",
    "      to have 0-mean and unit variance\n",
    "    '''\n",
    "    target_data = data.select_dtypes(include=np.number)\n",
    "    target_data = target_data.drop(['target'], axis = 1)\n",
    "    \n",
    "    standardized_data = (target_data - target_data.mean())/target_data.std()\n",
    "    standardized_data.insert(len(data.columns)-1, 'target', data['target'])\n",
    "    \n",
    "    return standardized_data"
   ]
  },
  {
   "cell_type": "markdown",
   "id": "b4001b5d",
   "metadata": {},
   "source": [
    "# Generating Synthetic Data for Experiments "
   ]
  },
  {
   "cell_type": "markdown",
   "id": "059d8f39",
   "metadata": {},
   "source": [
    "## Dataset A"
   ]
  },
  {
   "cell_type": "code",
   "execution_count": 11,
   "id": "d443963e",
   "metadata": {
    "ExecuteTime": {
     "end_time": "2022-06-14T06:43:48.012375Z",
     "start_time": "2022-06-14T06:43:47.994303Z"
    }
   },
   "outputs": [],
   "source": [
    "centers = [[-2,0], [2,0]]\n",
    "\n",
    "X2, y2 = make_blobs(n_samples = 100, centers=centers, n_features=2, cluster_std = 1, random_state=0)\n",
    "distant = pd.DataFrame(dict(feature1=X2[:,0], feature2=X2[:,1], target=y2))\n",
    "prep_distant = standardize_columns(distant)"
   ]
  },
  {
   "cell_type": "markdown",
   "id": "2e7f6f00",
   "metadata": {},
   "source": [
    "## Dataset B"
   ]
  },
  {
   "cell_type": "code",
   "execution_count": 9,
   "id": "02d5d05d",
   "metadata": {
    "ExecuteTime": {
     "end_time": "2022-06-14T06:39:41.825264Z",
     "start_time": "2022-06-14T06:39:41.808504Z"
    }
   },
   "outputs": [],
   "source": [
    "centers = [[0,0], [2,0]]\n",
    "\n",
    "X2, y2 = make_blobs(n_samples = 100, centers=centers, n_features=2, cluster_std = 1, random_state=0)\n",
    "data_2 = pd.DataFrame(dict(feature1=X2[:,0], feature2=X2[:,1], target=y2))\n",
    "prep_data_2 = standardize_columns(data_2)"
   ]
  },
  {
   "cell_type": "markdown",
   "id": "8c14981a",
   "metadata": {},
   "source": [
    "## Dataset C"
   ]
  },
  {
   "cell_type": "code",
   "execution_count": 8,
   "id": "9a772831",
   "metadata": {
    "ExecuteTime": {
     "end_time": "2022-06-14T06:39:23.797503Z",
     "start_time": "2022-06-14T06:39:23.778399Z"
    }
   },
   "outputs": [],
   "source": [
    "centers = [[0,0], [2,0]]\n",
    "\n",
    "X1b, y1b = make_blobs(n_samples = 200, centers=centers, n_features=2, cluster_std = 0.55, random_state=0)\n",
    "data_1b = pd.DataFrame(dict(feature1=X1b[:,0], feature2=X1b[:,1], target=y1b))\n",
    "prep_data_1b = standardize_columns(data_1b)"
   ]
  },
  {
   "cell_type": "markdown",
   "id": "5731cd24",
   "metadata": {},
   "source": [
    "## Dataset D"
   ]
  },
  {
   "cell_type": "code",
   "execution_count": 10,
   "id": "805b3a9b",
   "metadata": {
    "ExecuteTime": {
     "end_time": "2022-06-14T06:39:57.319666Z",
     "start_time": "2022-06-14T06:39:57.304283Z"
    }
   },
   "outputs": [],
   "source": [
    "centers = [[0,0], [2,0]]\n",
    "\n",
    "X3, y3 = make_blobs(n_samples = 500, centers=centers, n_features=2, cluster_std = 1, random_state=0)\n",
    "data_3 = pd.DataFrame(dict(feature1=X3[:,0], feature2=X3[:,1], target=y3))\n",
    "prep_data_3 = standardize_columns(data_3)"
   ]
  }
 ],
 "metadata": {
  "kernelspec": {
   "display_name": "Python 3 (ipykernel)",
   "language": "python",
   "name": "python3"
  },
  "language_info": {
   "codemirror_mode": {
    "name": "ipython",
    "version": 3
   },
   "file_extension": ".py",
   "mimetype": "text/x-python",
   "name": "python",
   "nbconvert_exporter": "python",
   "pygments_lexer": "ipython3",
   "version": "3.9.7"
  },
  "toc": {
   "base_numbering": 1,
   "nav_menu": {},
   "number_sections": true,
   "sideBar": true,
   "skip_h1_title": false,
   "title_cell": "Table of Contents",
   "title_sidebar": "Contents",
   "toc_cell": false,
   "toc_position": {},
   "toc_section_display": true,
   "toc_window_display": false
  },
  "varInspector": {
   "cols": {
    "lenName": 16,
    "lenType": 16,
    "lenVar": 40
   },
   "kernels_config": {
    "python": {
     "delete_cmd_postfix": "",
     "delete_cmd_prefix": "del ",
     "library": "var_list.py",
     "varRefreshCmd": "print(var_dic_list())"
    },
    "r": {
     "delete_cmd_postfix": ") ",
     "delete_cmd_prefix": "rm(",
     "library": "var_list.r",
     "varRefreshCmd": "cat(var_dic_list()) "
    }
   },
   "types_to_exclude": [
    "module",
    "function",
    "builtin_function_or_method",
    "instance",
    "_Feature"
   ],
   "window_display": false
  }
 },
 "nbformat": 4,
 "nbformat_minor": 5
}
