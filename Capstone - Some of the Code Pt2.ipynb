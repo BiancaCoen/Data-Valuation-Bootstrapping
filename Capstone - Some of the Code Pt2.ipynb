{
 "cells": [
  {
   "cell_type": "markdown",
   "id": "6f47f067",
   "metadata": {},
   "source": [
    "# Imports"
   ]
  },
  {
   "cell_type": "code",
   "execution_count": 1,
   "id": "9230c923",
   "metadata": {
    "ExecuteTime": {
     "end_time": "2022-06-14T06:21:45.813875Z",
     "start_time": "2022-06-14T06:21:42.017163Z"
    }
   },
   "outputs": [],
   "source": [
    "from scipy.stats import mannwhitneyu\n",
    "\n",
    "import pandas as pd\n",
    "import numpy as np\n",
    "from sklearn import datasets\n",
    "from sklearn.utils import resample\n",
    "from sklearn.metrics import accuracy_score\n",
    "from sklearn.tree import DecisionTreeClassifier\n",
    "\n",
    "import matplotlib.pyplot as plt\n",
    "import seaborn as sns"
   ]
  },
  {
   "cell_type": "markdown",
   "id": "ef4d0022",
   "metadata": {},
   "source": [
    "# Visualizations for Accuracy Plots \n",
    "Experiments 2 and 5"
   ]
  },
  {
   "cell_type": "code",
   "execution_count": null,
   "id": "87a6ecda",
   "metadata": {},
   "outputs": [],
   "source": [
    "def lineplots(remove, val_scores_in_model, val_scores_out_model, title, palette1, palette2, png_name):\n",
    "    \n",
    "    fig = plt.figure(1, figsize=(30,12))\n",
    "    fig.suptitle(title, fontsize = 20, fontweight = 'bold')\n",
    "    \n",
    "    arr_remove = np.array(remove)\n",
    "    arr_val_scores_in_model = np.array(val_scores_in_model)\n",
    "    arr_val_scores_out_model = np.array(val_scores_out_model)\n",
    "    \n",
    "    # in-model accuracy\n",
    "    plt.subplot(121)\n",
    "    sns.set_style(\"white\")\n",
    "    sns.lineplot(x = arr_remove*100, y = arr_val_scores_in_model*100, palette=palette1, linewidth = 4)\n",
    "    \n",
    "    plt.xlabel('Fraction of train data removed (%)', fontsize=20)\n",
    "    plt.ylabel('Prediction accuracy (%)', fontsize=20)\n",
    "    plt.xticks(fontsize = 20)\n",
    "    plt.yticks(fontsize = 20)\n",
    "    \n",
    "    # out-model accuracy\n",
    "    plt.subplot(122)\n",
    "    sns.set_style(\"white\")\n",
    "    sns.lineplot(x = arr_remove*100, y = arr_val_scores_out_model*100,palette=palette2, linewidth = 4)\n",
    "    \n",
    "    plt.xlabel('Fraction of train data removed (%)', fontsize = 20)\n",
    "    plt.ylabel('Prediction accuracy (%)', fontsize = 20)\n",
    "    plt.xticks(fontsize = 20)\n",
    "    plt.yticks(fontsize = 20)\n",
    "    \n",
    "    fig.savefig(png_name)\n",
    "    \n",
    "    plt.show()"
   ]
  },
  {
   "cell_type": "code",
   "execution_count": null,
   "id": "0c4d3e48",
   "metadata": {},
   "outputs": [],
   "source": [
    "def lineplot(remove, val_scores_diff, title, palette, png_name):\n",
    "    \n",
    "    fig = plt.figure(1, figsize=(30,12))\n",
    "    fig.suptitle(title, fontsize = 20, fontweight = 'bold')\n",
    "    \n",
    "    arr_remove = np.array(remove)\n",
    "    arr_val_scores_diff = np.array(val_scores_diff)\n",
    "   \n",
    "    # in-model accuracy\n",
    "    plt.subplot(121)\n",
    "    sns.set_style(\"white\")\n",
    "    sns.lineplot(x = arr_remove*100, y = arr_val_scores_diff *100, palette=palette, linewidth = 4)\n",
    "    \n",
    "    plt.xlabel('Fraction of train data removed (%)', fontsize=20)\n",
    "    plt.ylabel('Prediction accuracy (%)', fontsize=20)\n",
    "    plt.xticks(fontsize = 20)\n",
    "    plt.yticks(fontsize = 20)\n",
    "    \n",
    "    fig.savefig(png_name)\n",
    "    \n",
    "    plt.show"
   ]
  },
  {
   "cell_type": "markdown",
   "id": "22ad6818",
   "metadata": {},
   "source": [
    "# Mann Whitney U Test"
   ]
  },
  {
   "cell_type": "markdown",
   "id": "c1f72979",
   "metadata": {},
   "source": [
    "## Functions"
   ]
  },
  {
   "cell_type": "code",
   "execution_count": 5,
   "id": "3a210a2a",
   "metadata": {
    "ExecuteTime": {
     "end_time": "2022-06-14T06:24:42.485887Z",
     "start_time": "2022-06-14T06:24:42.478189Z"
    }
   },
   "outputs": [],
   "source": [
    "def standardize_columns(data):\n",
    "    '''\n",
    "    Input:\n",
    "      data (data frame): contains only numeric columns\n",
    "    Output:\n",
    "      data frame, the same data, except each column is standardized \n",
    "      to have 0-mean and unit variance\n",
    "    '''\n",
    "    target_data = data.select_dtypes(include=np.number)\n",
    "    target_data = target_data.drop(['target'], axis = 1)\n",
    "    \n",
    "    standardized_data = (target_data - target_data.mean())/target_data.std()\n",
    "    standardized_data.insert(len(data.columns)-1, 'target', data['target'])\n",
    "    \n",
    "    return standardized_data"
   ]
  },
  {
   "cell_type": "code",
   "execution_count": 6,
   "id": "eec810d2",
   "metadata": {
    "ExecuteTime": {
     "end_time": "2022-06-14T06:25:27.517081Z",
     "start_time": "2022-06-14T06:25:27.511658Z"
    }
   },
   "outputs": [],
   "source": [
    "def add_col_to_df(data, col_name, col):\n",
    "    \n",
    "    new_data = data.copy(deep = True)\n",
    "    new_data.insert(len(data.columns)-1, col_name, col)\n",
    "    \n",
    "    return new_data"
   ]
  },
  {
   "cell_type": "code",
   "execution_count": 7,
   "id": "0815a929",
   "metadata": {
    "ExecuteTime": {
     "end_time": "2022-06-14T06:25:39.931608Z",
     "start_time": "2022-06-14T06:25:39.922679Z"
    }
   },
   "outputs": [],
   "source": [
    "def get_feature_pairs(num_features, col_names):\n",
    "    my_feature_pairs = []\n",
    "    for _ in range(num_features*num_features):\n",
    "        for i in range(len(col_names)):\n",
    "            for j in range(len(col_names)):\n",
    "                feature_pair = (col_names[j], col_names[i])\n",
    "                my_feature_pairs.append(feature_pair)\n",
    "    return my_feature_pairs "
   ]
  },
  {
   "cell_type": "code",
   "execution_count": 2,
   "id": "5ab885b3",
   "metadata": {
    "ExecuteTime": {
     "end_time": "2022-06-14T06:22:34.129392Z",
     "start_time": "2022-06-14T06:22:34.121246Z"
    }
   },
   "outputs": [],
   "source": [
    "def create_boot_and_oob(training_folds, num_boot_samples):\n",
    "        \n",
    "        all_boot_and_oob = []\n",
    "        \n",
    "        for i in range(num_boot_samples):\n",
    "            boot = resample(training_folds, replace = True)\n",
    "            oob = pd.DataFrame([training_folds.loc[x,:] for x in training_folds.index if x not in boot.index])\n",
    "        \n",
    "            boot_and_oob = (boot, oob)\n",
    "            all_boot_and_oob.append(boot_and_oob)\n",
    "            \n",
    "        return all_boot_and_oob"
   ]
  },
  {
   "cell_type": "code",
   "execution_count": 3,
   "id": "feb98db6",
   "metadata": {
    "ExecuteTime": {
     "end_time": "2022-06-14T06:22:54.924959Z",
     "start_time": "2022-06-14T06:22:54.906070Z"
    }
   },
   "outputs": [],
   "source": [
    "def compute_accuracies_for_every_instance(training_folds, num_boot_samples, clf):\n",
    "        \n",
    "        all_boot_and_oob = create_boot_and_oob(training_folds, num_boot_samples)\n",
    "\n",
    "        both_accuracies_for_every_instance = []\n",
    "        my_clf = clf\n",
    "        \n",
    "        for x in training_folds.index: # go through training_folds index\n",
    "            in_model_acc = np.array([ ])\n",
    "            out_model_acc = np.array([ ])\n",
    "            for boot_oob_tuple in all_boot_and_oob:\n",
    "                #if x is not in boot_oob_tuplet[1]=oob --> in-model accuracy\n",
    "                if x not in boot_oob_tuple[1].index:\n",
    "                    # create training set\n",
    "                    X_train = boot_oob_tuple[0].iloc[:,:-1] \n",
    "                    y_train = boot_oob_tuple[0].iloc[:,-1] #last column: target\n",
    "                    \n",
    "                    # test = oob\n",
    "                    X_test = boot_oob_tuple[1].iloc[:,:-1]\n",
    "                    y_test = boot_oob_tuple[1].iloc[:,-1]\n",
    "                    \n",
    "                    my_clf.fit(X_train, y_train)\n",
    "                    # test model\n",
    "                    y_predicted_test =  my_clf.predict(X_test)\n",
    "                    accuracy = accuracy_score(y_test,y_predicted_test)\n",
    "                    \n",
    "                    #print(\"index: \" + str(x) + \"in_model_acc: \" + str(in_model_acc))\n",
    "                    in_model_acc = np.append(in_model_acc, accuracy)\n",
    "       \n",
    "                    \n",
    "                else: #out-model accuracy\n",
    "                \n",
    "                    X_train = boot_oob_tuple[0].iloc[:,:-1] \n",
    "                    y_train = boot_oob_tuple[0].iloc[:,-1] #last column: target\n",
    "                    # test = oob\n",
    "                    X_test = boot_oob_tuple[1].iloc[:,:-1].drop(x) # remove target data point\n",
    "                    y_test = boot_oob_tuple[1].iloc[:,-1].drop(x) # remove target data point\n",
    "                    \n",
    "                    my_clf.fit(X_train, y_train)\n",
    "                    # test model\n",
    "                    y_predicted_test = my_clf.predict(X_test)\n",
    "                    accuracy = accuracy_score(y_test,y_predicted_test)\n",
    "                    \n",
    "                    out_model_acc = np.append(out_model_acc, accuracy)\n",
    "                \n",
    "            both_accuracies_for_one_instance = (in_model_acc, out_model_acc)\n",
    "            #print('INDEX: ' +str(x) + ' ACC 1x instance: ' + str(both_accuracies_for_one_instance))\n",
    "            both_accuracies_for_every_instance.append(both_accuracies_for_one_instance)\n",
    "            \n",
    "        return both_accuracies_for_every_instance"
   ]
  },
  {
   "cell_type": "code",
   "execution_count": 8,
   "id": "ea305d0a",
   "metadata": {
    "ExecuteTime": {
     "end_time": "2022-06-14T06:26:12.991879Z",
     "start_time": "2022-06-14T06:26:12.970298Z"
    }
   },
   "outputs": [],
   "source": [
    "def scatters_of_multiD_data(data, color_colname, feature_pairs, num_features, setting, cmap,png_name, dot_size=10):\n",
    "    \n",
    "    mylist = []\n",
    "    x = 1\n",
    "    for _ in range(num_features):\n",
    "        mylist.append(x)\n",
    "        x += num_features\n",
    "            #18,12\n",
    "    fig = plt.figure(1, figsize=(18,12))\n",
    "    \n",
    "  \n",
    "    #num_features*num_features+1\n",
    "    for n in range(1,num_features*num_features+1):\n",
    "        # nrows, ncols, plot_number\n",
    "        plt.subplot(num_features, num_features, n).set_facecolor('white')\n",
    "        ax = plt.subplot(num_features, num_features, n)\n",
    "        ax.spines['bottom'].set_color('black')\n",
    "        ax.spines['top'].set_color('black')\n",
    "        ax.spines['left'].set_color('black')\n",
    "        ax.spines['right'].set_color('black')\n",
    "        \n",
    "        #values for color bar\n",
    "        colors = data[color_colname]\n",
    "        x, y = feature_pairs[n-1]\n",
    "        plt.scatter(x = data[x],y = data[y], s= dot_size, c = colors, cmap = cmap)\n",
    "        \n",
    "        #plt.xlabel(x, fontsize=12)\n",
    "        plt.xticks(fontsize = 16, fontweight = 'bold')\n",
    "        #plt.ylabel(y, fontsize=12)\n",
    "        plt.yticks(fontsize = 16, fontweight = 'bold')\n",
    "        \n",
    "        if n < ((num_features* num_features)- num_features):\n",
    "            #plt.subplot(4,4,n).get_xaxis().set_visible(False)\n",
    "            plt.subplot(num_features, num_features,n).xaxis.set_ticklabels([])\n",
    "            plt.xlabel('')\n",
    "        \n",
    "            \n",
    "        if n not in mylist:\n",
    "            #plt.subplot(4,4,n).get_yaxis().set_visible(False)\n",
    "            plt.subplot(num_features,num_features,n).yaxis.set_ticklabels([])\n",
    "            plt.ylabel('')\n",
    "            \n",
    "    plt.subplots_adjust(bottom=0.1, right=0.83, top=0.95, wspace=0.05, hspace=0.05)\n",
    "    \n",
    "    \n",
    "    cax = plt.axes([0.85, 0.1, 0.020, 0.85])\n",
    "    #aspect not working\n",
    "    cbar = plt.colorbar(cax=cax, aspect=20)\n",
    "    cbar.set_label(label = str(color_colname) + setting, fontsize=20)\n",
    "    cbar.ax.tick_params(labelsize=20)\n",
    "\n",
    "    #fig.tight_layout()\n",
    "    \n",
    "    fig.savefig(png_name)\n",
    "    \n",
    "    plt.show()"
   ]
  },
  {
   "cell_type": "markdown",
   "id": "88914b4a",
   "metadata": {},
   "source": [
    "## Test"
   ]
  },
  {
   "cell_type": "code",
   "execution_count": 9,
   "id": "bea83119",
   "metadata": {
    "ExecuteTime": {
     "end_time": "2022-06-14T06:26:17.180924Z",
     "start_time": "2022-06-14T06:26:17.154959Z"
    }
   },
   "outputs": [],
   "source": [
    "Haberman_Survival = pd.read_csv(\"haberman.data\")\n",
    "haberman_col_names =['Age', 'year', '# positive axillary nodes', 'target']  #target: 'Survival Status'       \n",
    "Haberman_Survival.to_csv(\"haberman.data\", header=haberman_col_names, index=False)\n",
    "\n",
    "Haberman_Survival = pd.read_csv(\"haberman.data\")\n",
    "prep_Haberman_Survival = standardize_columns(Haberman_Survival)"
   ]
  },
  {
   "cell_type": "code",
   "execution_count": null,
   "id": "3db53f1d",
   "metadata": {
    "ExecuteTime": {
     "end_time": "2022-06-14T06:26:58.439998Z",
     "start_time": "2022-06-14T06:26:55.254659Z"
    }
   },
   "outputs": [],
   "source": [
    "both_accuracies_for_every_instance_10k_HS = compute_accuracies_for_every_instance(prep_Haberman_Survival, \n",
    "                                                                               10000, \n",
    "                                                                               DecisionTreeClassifier(random_state=22))"
   ]
  },
  {
   "cell_type": "code",
   "execution_count": null,
   "id": "6ae841d2",
   "metadata": {},
   "outputs": [],
   "source": [
    "results_every_instance_HS_10k = []\n",
    "U_HS_10k = []\n",
    "p_HS_10k = []\n",
    "# for every instance in dataset\n",
    "for i in range(len(prep_Haberman_Survival)):\n",
    "    # compute U and p of mannwhitney test\n",
    "    U, p = mannwhitneyu(both_accuracies_for_every_instance_10k_HS[i][0], both_accuracies_for_every_instance_10k_HS[i][1])\n",
    "    U_HS_10k.append(U) \n",
    "    p_HS_10k.append(p)\n",
    "    results_one_instance = (U,p)\n",
    "    results_every_instance_HS_10k.append(results_one_instance)"
   ]
  },
  {
   "cell_type": "markdown",
   "id": "8c68e1b2",
   "metadata": {
    "ExecuteTime": {
     "end_time": "2022-06-14T06:28:02.788546Z",
     "start_time": "2022-06-14T06:28:02.785036Z"
    }
   },
   "source": [
    "## Visualizing Test Results"
   ]
  },
  {
   "cell_type": "code",
   "execution_count": null,
   "id": "06920910",
   "metadata": {},
   "outputs": [],
   "source": [
    "scatters_of_multiD_data(viz_HS_10k, \n",
    "                        'U', \n",
    "                        feature_pairs_HS, \n",
    "                        3, \n",
    "                        '-statistic', \n",
    "                        'jet',\n",
    "                        'WhitneyU_Habermas_10k_final',\n",
    "                       60)"
   ]
  }
 ],
 "metadata": {
  "kernelspec": {
   "display_name": "Python 3 (ipykernel)",
   "language": "python",
   "name": "python3"
  },
  "language_info": {
   "codemirror_mode": {
    "name": "ipython",
    "version": 3
   },
   "file_extension": ".py",
   "mimetype": "text/x-python",
   "name": "python",
   "nbconvert_exporter": "python",
   "pygments_lexer": "ipython3",
   "version": "3.9.7"
  },
  "toc": {
   "base_numbering": 1,
   "nav_menu": {},
   "number_sections": true,
   "sideBar": true,
   "skip_h1_title": false,
   "title_cell": "Table of Contents",
   "title_sidebar": "Contents",
   "toc_cell": false,
   "toc_position": {},
   "toc_section_display": true,
   "toc_window_display": false
  },
  "varInspector": {
   "cols": {
    "lenName": 16,
    "lenType": 16,
    "lenVar": 40
   },
   "kernels_config": {
    "python": {
     "delete_cmd_postfix": "",
     "delete_cmd_prefix": "del ",
     "library": "var_list.py",
     "varRefreshCmd": "print(var_dic_list())"
    },
    "r": {
     "delete_cmd_postfix": ") ",
     "delete_cmd_prefix": "rm(",
     "library": "var_list.r",
     "varRefreshCmd": "cat(var_dic_list()) "
    }
   },
   "types_to_exclude": [
    "module",
    "function",
    "builtin_function_or_method",
    "instance",
    "_Feature"
   ],
   "window_display": false
  }
 },
 "nbformat": 4,
 "nbformat_minor": 5
}
