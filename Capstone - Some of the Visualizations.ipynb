{
 "cells": [
  {
   "cell_type": "markdown",
   "id": "842cdb01",
   "metadata": {},
   "source": [
    "# Data Valuation Viz Code"
   ]
  },
  {
   "cell_type": "code",
   "execution_count": 3,
   "id": "3742b004",
   "metadata": {
    "ExecuteTime": {
     "end_time": "2022-05-10T15:41:30.661292Z",
     "start_time": "2022-05-10T15:41:30.119324Z"
    }
   },
   "outputs": [],
   "source": [
    "import matplotlib.pyplot as plt\n",
    "import seaborn as sns\n",
    "\n",
    "import pandas as pd\n",
    "import numpy as np"
   ]
  },
  {
   "cell_type": "markdown",
   "id": "bd59b177",
   "metadata": {},
   "source": [
    "## Adding Results to Dataframes"
   ]
  },
  {
   "cell_type": "code",
   "execution_count": 2,
   "id": "95fd9dd7",
   "metadata": {
    "ExecuteTime": {
     "end_time": "2022-04-21T08:07:42.185956Z",
     "start_time": "2022-04-21T08:07:42.183963Z"
    }
   },
   "outputs": [],
   "source": [
    "def add_bvd_to_df(data, bvd):\n",
    "    \n",
    "    new_data = data.copy(deep = True)\n",
    "    new_data.insert(len(data.columns)-1, 'Bootstrap Data Values', bvd)\n",
    "    \n",
    "    return new_data"
   ]
  },
  {
   "cell_type": "code",
   "execution_count": 3,
   "id": "800cfd79",
   "metadata": {
    "ExecuteTime": {
     "end_time": "2022-04-21T08:07:42.189239Z",
     "start_time": "2022-04-21T08:07:42.187298Z"
    }
   },
   "outputs": [],
   "source": [
    "def add_bvd_and_p_to_df(data, bvd, p_values):\n",
    "    \n",
    "    new_data = data.copy(deep = True)\n",
    "    new_data.insert(len(data.columns)-1, 'p-values', p_values)\n",
    "    new_data.insert(len(data.columns)-1, 'Bootstrap Data Values', bvd)\n",
    "    \n",
    "    return new_data"
   ]
  },
  {
   "cell_type": "code",
   "execution_count": 4,
   "id": "f11c04bd",
   "metadata": {
    "ExecuteTime": {
     "end_time": "2022-04-21T08:07:42.191757Z",
     "start_time": "2022-04-21T08:07:42.190006Z"
    }
   },
   "outputs": [],
   "source": [
    "def add_p_to_df(data, p_values):\n",
    "    \n",
    "    new_data = data.copy(deep = True)\n",
    "    new_data.insert(len(data.columns)-1, 'p-values', p_values)\n",
    "    \n",
    "    return new_data"
   ]
  },
  {
   "cell_type": "code",
   "execution_count": 5,
   "id": "55fa6d94",
   "metadata": {
    "ExecuteTime": {
     "end_time": "2022-04-21T08:07:42.194334Z",
     "start_time": "2022-04-21T08:07:42.192443Z"
    }
   },
   "outputs": [],
   "source": [
    "def add_acc_to_df(data, accuracy, accuracy_kind):\n",
    "    \n",
    "    new_data = data.copy(deep = True)\n",
    "    new_data.insert(len(data.columns)-1, accuracy_kind, accuracy)\n",
    "    \n",
    "    return new_data"
   ]
  },
  {
   "cell_type": "markdown",
   "id": "24a0e5b3",
   "metadata": {},
   "source": [
    "## Other Preprocessing for VIZ"
   ]
  },
  {
   "cell_type": "code",
   "execution_count": 6,
   "id": "db9d4ba6",
   "metadata": {
    "ExecuteTime": {
     "end_time": "2022-04-21T08:07:42.198121Z",
     "start_time": "2022-04-21T08:07:42.195272Z"
    }
   },
   "outputs": [],
   "source": [
    "#for scatters of data with more than 2 dimensions\n",
    "def get_feature_pairs(num_features, col_names):\n",
    "    my_feature_pairs = []\n",
    "    for _ in range(num_features*num_features):\n",
    "        for i in range(len(col_names)):\n",
    "            for j in range(len(col_names)):\n",
    "                feature_pair = (col_names[j], col_names[i])\n",
    "                my_feature_pairs.append(feature_pair)\n",
    "    return my_feature_pairs "
   ]
  },
  {
   "cell_type": "markdown",
   "id": "b376313b",
   "metadata": {},
   "source": [
    "## Vizualizing Results"
   ]
  },
  {
   "cell_type": "markdown",
   "id": "0cc103ad",
   "metadata": {},
   "source": [
    "### Scatterplots"
   ]
  },
  {
   "cell_type": "code",
   "execution_count": 7,
   "id": "501a3c19",
   "metadata": {
    "ExecuteTime": {
     "end_time": "2022-04-21T08:07:42.204890Z",
     "start_time": "2022-04-21T08:07:42.199099Z"
    }
   },
   "outputs": [],
   "source": [
    "# viz 3 scatters of the same data\n",
    "def plot_3_scatters(data1, data2, data3, color_colname, x, y, cmap):\n",
    "    '''\n",
    "    Input: df with p-values and/or bootstrap data values\n",
    "    '''\n",
    "    #max = 0\n",
    "    #min = 0\n",
    "    #max = round(max(max(data1[color_colname]), max(data2[color_colname]), max(data3[color_colname])), 6)\n",
    "    #min = round(min(min(data1[color_colname]), min(data2[color_colname]), min(data3[color_colname])),6)\n",
    "    \n",
    "    fig = plt.figure(1, figsize=(30,12))\n",
    "    fig.suptitle('Scatterplots of Original Setting vs Modified Settings', fontsize = 20, fontweight = 'bold')\n",
    "    \n",
    "    # nrows, ncols, plot_number\n",
    "    plt.subplot(221)\n",
    "    colors = data1[color_colname]\n",
    "    plt.scatter(x = data1[x],y = data1[y], s = 60, c = colors, cmap = cmap)\n",
    "    \n",
    "    plt.title('Original Setting with Decision Trees', fontsize = 14, fontweight = 'bold')\n",
    "    plt.xlabel(x)\n",
    "    plt.ylabel(y)\n",
    "    \n",
    "    plt.subplot(222)\n",
    "    colors = data2[color_colname]\n",
    "    plt.scatter(x = data2[x],y = data2[y], s = 60, c = colors, cmap = cmap)\n",
    "    \n",
    "    plt.title('Modified Setting with Decision Trees', fontsize = 14, fontweight = 'bold')\n",
    "    plt.xlabel(x)\n",
    "    plt.ylabel(y)\n",
    "    \n",
    "    plt.subplot(223)\n",
    "    colors = data3[color_colname]\n",
    "    plt.scatter(x = data3[x],y = data3[y], s = 60, c = colors, cmap = cmap)\n",
    "    \n",
    "    plt.title('Modified Setting with Stumps', fontsize = 14, fontweight = 'bold')\n",
    "    plt.xlabel(x)\n",
    "    plt.ylabel(y)\n",
    "    \n",
    "    plt.subplots_adjust(bottom=0.1, right=0.8, top=0.9)\n",
    "    \n",
    "    cax = plt.axes([0.85, 0.1, 0.075, 0.8])\n",
    "    #aspect not working\n",
    "    cbar = plt.colorbar(cax=cax)\n",
    "    cbar.set_label(label = color_colname)\n",
    "    #cbar.clim(min,max)\n",
    "    \n",
    "    plt.show()"
   ]
  },
  {
   "cell_type": "code",
   "execution_count": 8,
   "id": "40720ca0",
   "metadata": {
    "ExecuteTime": {
     "end_time": "2022-04-21T08:07:42.210982Z",
     "start_time": "2022-04-21T08:07:42.205756Z"
    }
   },
   "outputs": [],
   "source": [
    "# visualize data with 4 features in 16x 2d scatterplots\n",
    "def plot_4d_scatters(data, color_colname, feature_pairs, setting, cmap):\n",
    "    '''\n",
    "    Input: df with p-values and/or bootstrap data values\n",
    "    '''\n",
    "    \n",
    "    fig = plt.figure(1, figsize=(30,26))\n",
    "    fig.suptitle('Scatterplots of ' + color_colname + \" \" + setting, \n",
    "                 fontsize = 30, \n",
    "                 fontweight = 'bold')\n",
    "  \n",
    "    \n",
    "    for n in range(1,17):\n",
    "        # nrows, ncols, plot_number\n",
    "        plt.subplot(4,4,n)\n",
    "        \n",
    "        #values for color bar\n",
    "        colors = data[color_colname]\n",
    "        x, y = feature_pairs[n-1]\n",
    "        plt.scatter(x = data[x],y = data[y], s = 60, c = colors, cmap = cmap)\n",
    "        \n",
    "        plt.xlabel(x, fontsize=25)\n",
    "        plt.xticks(fontsize = 15, fontweight = 'bold')\n",
    "        plt.ylabel(y, fontsize=25)\n",
    "        plt.yticks(fontsize = 15, fontweight = 'bold')\n",
    "        \n",
    "        if n < 13:\n",
    "            #plt.subplot(4,4,n).get_xaxis().set_visible(False)\n",
    "            plt.subplot(4,4,n).xaxis.set_ticklabels([])\n",
    "            plt.xlabel('')\n",
    "            \n",
    "        if n not in [1, 5, 9, 13]:\n",
    "            #plt.subplot(4,4,n).get_yaxis().set_visible(False)\n",
    "            plt.subplot(4,4,n).yaxis.set_ticklabels([])\n",
    "            plt.ylabel('')\n",
    "            \n",
    "    plt.subplots_adjust(bottom=0.1, right=0.83, top=0.95, wspace=0.05, hspace=0.05)\n",
    "    \n",
    "    \n",
    "    cax = plt.axes([0.85, 0.1, 0.075, 0.85])\n",
    "    #aspect not working\n",
    "    cbar = plt.colorbar(cax=cax, aspect=20)\n",
    "    cbar.set_label(label = color_colname, fontsize=20)\n",
    "    cbar.ax.tick_params(labelsize=15)\n",
    "    \n",
    "    plt.show()"
   ]
  },
  {
   "cell_type": "code",
   "execution_count": 9,
   "id": "12255605",
   "metadata": {
    "ExecuteTime": {
     "end_time": "2022-04-21T08:07:42.219200Z",
     "start_time": "2022-04-21T08:07:42.213497Z"
    }
   },
   "outputs": [],
   "source": [
    "# can replace function: plot 4d scatters\n",
    "def scatters_of_multiD_data(data, color_colname, feature_pairs, num_features, setting, cmap, dot_size=10):\n",
    "    '''\n",
    "    Input: df with p-values and/or bootstrap data values\n",
    "    '''\n",
    "    mylist = []\n",
    "    x = 1\n",
    "    for _ in range(num_features):\n",
    "        mylist.append(x)\n",
    "        x += num_features\n",
    "            \n",
    "    fig = plt.figure(1, figsize=(30,26))\n",
    "    fig.suptitle('Scatterplots of ' + color_colname + \" \" + setting, \n",
    "                 fontsize = 30, \n",
    "                 fontweight = 'bold')\n",
    "  \n",
    "    #num_features*num_features+1\n",
    "    for n in range(1,num_features*num_features+1):\n",
    "        # nrows, ncols, plot_number\n",
    "        plt.subplot(num_features, num_features, n)\n",
    "        \n",
    "        #values for color bar\n",
    "        colors = data[color_colname]\n",
    "        x, y = feature_pairs[n-1]\n",
    "        plt.scatter(x = data[x],y = data[y], s= dot_size, c = colors, cmap = cmap)\n",
    "        \n",
    "        plt.xlabel(x, fontsize=12)\n",
    "        plt.xticks(fontsize = 10, fontweight = 'bold')\n",
    "        plt.ylabel(y, fontsize=12)\n",
    "        plt.yticks(fontsize = 10, fontweight = 'bold')\n",
    "        \n",
    "        if n < ((num_features* num_features)- num_features):\n",
    "            #plt.subplot(4,4,n).get_xaxis().set_visible(False)\n",
    "            plt.subplot(num_features, num_features,n).xaxis.set_ticklabels([])\n",
    "            plt.xlabel('')\n",
    "        \n",
    "            \n",
    "        if n not in mylist:\n",
    "            #plt.subplot(4,4,n).get_yaxis().set_visible(False)\n",
    "            plt.subplot(num_features,num_features,n).yaxis.set_ticklabels([])\n",
    "            plt.ylabel('')\n",
    "            \n",
    "    plt.subplots_adjust(bottom=0.1, right=0.83, top=0.95, wspace=0.05, hspace=0.05)\n",
    "    \n",
    "    \n",
    "    cax = plt.axes([0.85, 0.1, 0.075, 0.85])\n",
    "    #aspect not working\n",
    "    cbar = plt.colorbar(cax=cax, aspect=20)\n",
    "    cbar.set_label(label = color_colname, fontsize=20)\n",
    "    cbar.ax.tick_params(labelsize=15)\n",
    "\n",
    "    #fig.tight_layout()\n",
    "    \n",
    "    plt.show()"
   ]
  },
  {
   "cell_type": "markdown",
   "id": "950251cf",
   "metadata": {},
   "source": [
    "## Pipe Data Valuation VIZ"
   ]
  },
  {
   "cell_type": "code",
   "execution_count": 10,
   "id": "bf407af3",
   "metadata": {
    "ExecuteTime": {
     "end_time": "2022-04-21T08:07:42.222786Z",
     "start_time": "2022-04-21T08:07:42.220273Z"
    }
   },
   "outputs": [],
   "source": [
    "def pipe_3_scatters(data, x, y, color_colname, cmap, bvd1, bvd2, bvd3, p_values1, p_values2, p_values3):\n",
    "    \n",
    "    data1 = add_bvd_and_p_to_df(data, bvd1, p_values1)\n",
    "    data2 = add_bvd_and_p_to_df(data, bvd2, p_values2)\n",
    "    data3 = add_bvd_and_p_to_df(data, bvd3, p_values3)\n",
    "    plot_3_scatters(data1, data2, data3, color_colname, x, y, cmap)\n"
   ]
  },
  {
   "cell_type": "code",
   "execution_count": 11,
   "id": "bef843f6",
   "metadata": {
    "ExecuteTime": {
     "end_time": "2022-04-21T08:07:42.225826Z",
     "start_time": "2022-04-21T08:07:42.223590Z"
    }
   },
   "outputs": [],
   "source": [
    "def pipe_4d_scatters(data, bvd, p_values, color_colname, feature_pairs,setting, cmap):\n",
    "    \n",
    "    data = add_bvd_and_p_to_df(data, bvd, p_values)\n",
    "    plot_4d_scatters(data, color_colname, feature_pairs, setting, cmap)"
   ]
  },
  {
   "cell_type": "code",
   "execution_count": 12,
   "id": "3e23df4e",
   "metadata": {
    "ExecuteTime": {
     "end_time": "2022-04-21T08:07:42.229015Z",
     "start_time": "2022-04-21T08:07:42.226701Z"
    }
   },
   "outputs": [],
   "source": [
    "def pipe_multidiemsnion_scatters(data, bvd, p_values,num_features, col_names, color_colname, setting, cmap, dot_size):\n",
    "    \n",
    "    data = add_bvd_and_p_to_df(data, bvd, p_values)\n",
    "    feature_pairs = get_feature_pairs(num_features, col_names)\n",
    "    scatters_of_multiD_data(data, color_colname, feature_pairs, num_features, setting, cmap, dot_size)\n",
    "    "
   ]
  },
  {
   "cell_type": "code",
   "execution_count": 13,
   "id": "84ccebd7",
   "metadata": {
    "ExecuteTime": {
     "end_time": "2022-04-21T08:07:42.232684Z",
     "start_time": "2022-04-21T08:07:42.230044Z"
    }
   },
   "outputs": [],
   "source": [
    "def pipe_multidiemsnion_scatters_bothacc(data, accuracy, accuracy_kind, num_features, col_names, color_colname, setting, cmap, dot_size):\n",
    "    \n",
    "    data = add_acc_to_df(data, accuracy, accuracy_kind)\n",
    "    feature_pairs = get_feature_pairs(num_features, col_names)\n",
    "    scatters_of_multiD_data(data, color_colname, feature_pairs, num_features, setting, cmap, dot_size)"
   ]
  }
 ],
 "metadata": {
  "kernelspec": {
   "display_name": "Python 3 (ipykernel)",
   "language": "python",
   "name": "python3"
  },
  "language_info": {
   "codemirror_mode": {
    "name": "ipython",
    "version": 3
   },
   "file_extension": ".py",
   "mimetype": "text/x-python",
   "name": "python",
   "nbconvert_exporter": "python",
   "pygments_lexer": "ipython3",
   "version": "3.9.7"
  },
  "toc": {
   "base_numbering": 1,
   "nav_menu": {},
   "number_sections": true,
   "sideBar": true,
   "skip_h1_title": false,
   "title_cell": "Table of Contents",
   "title_sidebar": "Contents",
   "toc_cell": false,
   "toc_position": {},
   "toc_section_display": true,
   "toc_window_display": false
  },
  "varInspector": {
   "cols": {
    "lenName": 16,
    "lenType": 16,
    "lenVar": 40
   },
   "kernels_config": {
    "python": {
     "delete_cmd_postfix": "",
     "delete_cmd_prefix": "del ",
     "library": "var_list.py",
     "varRefreshCmd": "print(var_dic_list())"
    },
    "r": {
     "delete_cmd_postfix": ") ",
     "delete_cmd_prefix": "rm(",
     "library": "var_list.r",
     "varRefreshCmd": "cat(var_dic_list()) "
    }
   },
   "types_to_exclude": [
    "module",
    "function",
    "builtin_function_or_method",
    "instance",
    "_Feature"
   ],
   "window_display": false
  }
 },
 "nbformat": 4,
 "nbformat_minor": 5
}
